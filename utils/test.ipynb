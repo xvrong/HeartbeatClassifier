{
 "cells": [
  {
   "cell_type": "code",
   "execution_count": null,
   "metadata": {},
   "outputs": [],
   "source": [
    "import pandas as pd\n",
    "import numpy as np\n",
    "import matplotlib.pyplot as plt\n",
    "from imblearn.over_sampling import SMOTE"
   ]
  },
  {
   "cell_type": "code",
   "execution_count": null,
   "metadata": {},
   "outputs": [],
   "source": [
    "# 随机种子\n",
    "seed = 2021\n",
    "# 读取训练数据和测试数据并展示头部信息\n",
    "train = pd.read_csv('../dataset/train.csv')\n",
    "test = pd.read_csv('../dataset/test.csv')\n",
    "# 将数据简单处理：数据切割以及打标签\n",
    "train_list = []\n",
    "for items in train.values:\n",
    "    train_list.append([items[0]] + [float(i) for i in items[1].split(',')] + [items[2]])\n",
    "train = pd.DataFrame(np.array(train_list))\n",
    "train.columns = ['id'] + [str(i) for i in range(len(train_list[0]) - 2)] + ['label']\n",
    "test_list = []\n",
    "for items in test.values:\n",
    "    test_list.append([items[0]] + [float(i) for i in items[1].split(',')])\n",
    "test = pd.DataFrame(np.array(test_list))\n",
    "test.columns = ['id'] + [str(i) for i in range(len(test_list[0]) - 1)]\n",
    "# 模型数据集准备\n",
    "x_train = train.drop(['id', 'label'], axis=1)\n",
    "y_train = train['label']\n",
    "x_test = test.drop(['id'], axis=1)\n",
    "\n",
    "# data['label'] = range(80000, 80000 + data.shape[0])"
   ]
  },
  {
   "cell_type": "markdown",
   "metadata": {},
   "source": [
    "# 使用数据间的余弦相似度扩展数据集"
   ]
  },
  {
   "cell_type": "code",
   "execution_count": null,
   "metadata": {},
   "outputs": [],
   "source": [
    "from scipy.spatial.distance import pdist, squareform\n",
    "from scipy.spatial.distance import cosine\n",
    "\n",
    "data_1 = train[train['label'] == 1]\n",
    "cosine_distances = pdist(data_1.iloc[:, 1:data_1.shape[1]-1], metric='cosine')\n",
    "\n",
    "cosine_similarity = 1 - squareform(cosine_distances)\n",
    "\n",
    "similarity_df = pd.DataFrame(cosine_similarity, index=data_1.index, columns=data_1.index)\n",
    "\n",
    "similarity_df"
   ]
  },
  {
   "cell_type": "code",
   "execution_count": null,
   "metadata": {},
   "outputs": [],
   "source": [
    "# 取出相似度最高的前3个样本，显示最低相似度是多少\n",
    "tmp = similarity_df.apply(lambda x: x.sort_values(ascending=False).iloc[1:4], axis=1)\n",
    "sample = tmp.apply(lambda x: x.min(), axis=1).sort_values(ascending=True)\n",
    "# 画出tmp的分布\n",
    "# plt.hist(tmp.apply(lambda x: x.min(), axis=1), bins=100)\n",
    "sample = sample[sample > 0.95]\n",
    "len(sample), len(sample) / len(data_1)"
   ]
  },
  {
   "cell_type": "code",
   "execution_count": null,
   "metadata": {},
   "outputs": [],
   "source": [
    "# 抽取10个样本，将其和余弦相似度最相近的3个样本在同一个坐标系中展示出来\n",
    "import random\n",
    "import matplotlib.pyplot as plt\n",
    "import matplotlib.image as mpimg\n",
    "\n",
    "sample = sample.index[0:10]\n",
    "\n",
    "# 余弦相似度最相近的3个样本\n",
    "for i in sample:\n",
    "    most_similar = similarity_df.loc[i].sort_values(ascending=False)[1:3].index\n",
    "    plt.figure(figsize=(10, 10))\n",
    "    plt.plot(data_1.loc[i][1:data_1.shape[1] - 1])\n",
    "    plt.title('original')\n",
    "    for j in range(2):\n",
    "        plt.plot(data_1.loc[most_similar[j]][1:data_1.shape[1] - 1])\n",
    "        plt.title('similar_{}'.format(j + 1))\n",
    "    plt.show()"
   ]
  },
  {
   "cell_type": "code",
   "execution_count": null,
   "metadata": {},
   "outputs": [],
   "source": [
    "fussion_df = []\n",
    "for i in similarity_df.index:\n",
    "    most_similarity_df = similarity_df[i].sort_values(ascending=False).iloc[1:4].index\n",
    "    for j in most_similarity_df:\n",
    "        if similarity_df[i][j] > 0.95:\n",
    "            new_row = (data_1.loc[i].iloc[1:data_1.shape[1]-1] + data_1.loc[j].iloc[1:data_1.shape[1]-1]) / 2\n",
    "            fussion_df.append(new_row.values.tolist())\n",
    "len(fussion_df), len(fussion_df[0])\n",
    "# 将fussion_df合并到train中\n",
    "fussion_df = pd.DataFrame(fussion_df)\n",
    "fussion_df.columns = [str(i) for i in range(len(fussion_df.columns))]\n",
    "fussion_df['label'] = 1\n",
    "fussion_df['id'] = range(train.shape[0], train.shape[0] + fussion_df.shape[0])\n",
    "new_train = pd.concat([train, fussion_df], axis=0)"
   ]
  },
  {
   "cell_type": "markdown",
   "metadata": {},
   "source": [
    "# 使用变化率的余弦相似度增强数据"
   ]
  },
  {
   "cell_type": "code",
   "execution_count": null,
   "metadata": {},
   "outputs": [],
   "source": [
    "# 求data_1的差分\n",
    "data_1_diff = data_1.iloc[:, 1:data_1.shape[1]-1].diff(axis=1).dropna(axis=1)\n",
    "cosine_distances_diff = pdist(data_1_diff.iloc[:, 1:data_1_diff.shape[1]-1], metric='cosine')\n",
    "\n",
    "cosine_similarity_diff = 1 - squareform(cosine_distances_diff)\n",
    "\n",
    "similarity_df_diff = pd.DataFrame(cosine_similarity_diff, index=data_1_diff.index, columns=data_1_diff.index)\n",
    "\n",
    "similarity_df_diff"
   ]
  },
  {
   "cell_type": "code",
   "execution_count": null,
   "metadata": {},
   "outputs": [],
   "source": [
    "data_1_diff\n",
    "# 将data_1_diff的id和label补充上\n",
    "data_1_diff['id'] = data_1['id']\n",
    "data_1_diff['label'] = data_1['label']"
   ]
  },
  {
   "cell_type": "code",
   "execution_count": null,
   "metadata": {},
   "outputs": [],
   "source": [
    "# 取出相似度最高的前3个样本，显示最低相似度是多少\n",
    "tmp = similarity_df_diff.apply(lambda x: x.sort_values(ascending=False).iloc[1:4], axis=1)\n",
    "sample = tmp.apply(lambda x: x.min(), axis=1).sort_values(ascending=True)\n",
    "# 画出tmp的分布\n",
    "plt.hist(tmp.apply(lambda x: x.min(), axis=1), bins=100)\n",
    "plt.savefig('diff_hist.png')\n",
    "sample = sample[sample > 0.95]\n",
    "print(len(sample), len(sample) / len(data_1))\n",
    "sample = sample.index[0:10]"
   ]
  },
  {
   "cell_type": "code",
   "execution_count": null,
   "metadata": {},
   "outputs": [],
   "source": [
    "# 抽取10个样本，将其和余弦相似度最相近的3个样本在同一个坐标系中展示出来\n",
    "import random\n",
    "import matplotlib.pyplot as plt\n",
    "import matplotlib.image as mpimg\n",
    "\n",
    "\n",
    "\n",
    "# 余弦相似度最相近的3个样本\n",
    "for i in sample:\n",
    "    most_similar = similarity_df_diff.loc[i].sort_values(ascending=False)[1:4].index\n",
    "    plt.figure(figsize=(10, 10))\n",
    "    plt.plot(data_1.loc[i][1:data_1.shape[1] - 1])\n",
    "    plt.title('original')\n",
    "    for j in range(3):\n",
    "        plt.plot(data_1.loc[most_similar[j]][1:data_1.shape[1] - 1])\n",
    "        plt.title('similar_{}'.format(j + 1))\n",
    "    plt.show()"
   ]
  },
  {
   "cell_type": "code",
   "execution_count": null,
   "metadata": {},
   "outputs": [],
   "source": [
    "fussion_df = []\n",
    "for i in similarity_df_diff.index:\n",
    "    most_similarity_df = similarity_df_diff[i].sort_values(ascending=False).iloc[1:4].index\n",
    "    for j in most_similarity_df:\n",
    "        if similarity_df_diff[i][j] > 0.95:\n",
    "            new_row = (data_1.loc[i].iloc[1:data_1.shape[1]-1] + data_1.loc[j].iloc[1:data_1.shape[1]-1]) / 2\n",
    "            fussion_df.append(new_row.values.tolist())\n",
    "len(fussion_df), len(fussion_df[0])\n",
    "# 将fussion_df合并到train中\n",
    "fussion_df = pd.DataFrame(fussion_df)\n",
    "fussion_df.columns = [str(i) for i in range(len(fussion_df.columns))]\n",
    "fussion_df['label'] = 1\n",
    "fussion_df['id'] = range(train.shape[0], train.shape[0] + fussion_df.shape[0])\n",
    "new_train = pd.concat([train, fussion_df], axis=0)"
   ]
  },
  {
   "cell_type": "code",
   "execution_count": null,
   "metadata": {},
   "outputs": [],
   "source": [
    "# 条形图显示各个类别数量\n",
    "plt.bar(train['label'].value_counts().index, train['label'].value_counts())\n",
    "plt.savefig('train_label.png')\n",
    "plt.show()\n",
    "\n",
    "# 显示数量\n",
    "print(train['label'].value_counts())"
   ]
  },
  {
   "cell_type": "code",
   "execution_count": null,
   "metadata": {},
   "outputs": [],
   "source": [
    "# 可视化每个类别的均值\n",
    "np.mean(x_train[y_train==0], axis=0).T.plot(legend='0')\n",
    "np.mean(x_train[y_train==1], axis=0).T.plot(legend='1')\n",
    "np.mean(x_train[y_train==2], axis=0).T.plot(legend='2')\n",
    "np.mean(x_train[y_train==3], axis=0).T.plot(legend='3')\n",
    "plt.legend(['0', '1', '2', '3'])\n",
    "# 保存这张图像\n",
    "plt.savefig('mean.png')"
   ]
  },
  {
   "cell_type": "code",
   "execution_count": null,
   "metadata": {},
   "outputs": [],
   "source": [
    "# 从train中随机取100个y_train==样本，画出100个图像\n",
    "for label in range(4):\n",
    "    plt.figure(figsize=(24, 8))\n",
    "    # 获取属于当前类别的样本\n",
    "    label_samples = x_train[y_train == label]\n",
    "\n",
    "    # 随机选择100个样本（如果该类别样本少于100个，则选择全部样本）\n",
    "    sample_indices = np.random.choice(label_samples.index, min(100, len(label_samples)), replace=False)\n",
    "    samples_to_plot = label_samples.loc[sample_indices]\n",
    "\n",
    "    for i, idx in enumerate(samples_to_plot.index):\n",
    "        plt.subplot(10, 10, i + 1)\n",
    "        plt.plot(samples_to_plot.loc[idx]) # 或者使用其他绘图方法\n",
    "        plt.xticks([])\n",
    "        plt.yticks([])\n",
    "    plt.savefig('{}.png'.format(label))\n",
    "    plt.show()\n",
    "    \n"
   ]
  },
  {
   "cell_type": "code",
   "execution_count": null,
   "metadata": {},
   "outputs": [],
   "source": [
    "# 可视化每个类别的均值\n",
    "np.mean(x_train[y_train==0].diff(axis=1), axis=0).T.plot(legend='0')\n",
    "np.mean(x_train[y_train==1].diff(axis=1), axis=0).T.plot(legend='1')\n",
    "np.mean(x_train[y_train==2].diff(axis=1), axis=0).T.plot(legend='2')\n",
    "np.mean(x_train[y_train==3].diff(axis=1), axis=0).T.plot(legend='3')\n",
    "plt.legend(['0', '1', '2', '3'])\n",
    "plt.savefig('mean_diff.png')"
   ]
  },
  {
   "cell_type": "code",
   "execution_count": null,
   "metadata": {},
   "outputs": [],
   "source": [
    "\n",
    "# 可视化每个类别的累加\n",
    "np.mean(x_train[y_train==0].cumsum(axis=1), axis=0).T.plot(legend='0')\n",
    "np.mean(x_train[y_train==1].cumsum(axis=1), axis=0).T.plot(legend='1')\n",
    "np.mean(x_train[y_train==2].cumsum(axis=1), axis=0).T.plot(legend='2')\n",
    "np.mean(x_train[y_train==3].cumsum(axis=1), axis=0).T.plot(legend='3')\n",
    "plt.legend(['0', '1', '2', '3'])"
   ]
  },
  {
   "cell_type": "code",
   "execution_count": null,
   "metadata": {},
   "outputs": [],
   "source": [
    "x_train_diff = x_train.diff(axis=1).fillna(0)\n",
    "x_train__merged = pd.concat([x_train, x_train_diff], axis=1)\n",
    "x_train__merged.shape"
   ]
  }
 ],
 "metadata": {
  "kernelspec": {
   "display_name": "ML",
   "language": "python",
   "name": "python3"
  },
  "language_info": {
   "codemirror_mode": {
    "name": "ipython",
    "version": 3
   },
   "file_extension": ".py",
   "mimetype": "text/x-python",
   "name": "python",
   "nbconvert_exporter": "python",
   "pygments_lexer": "ipython3",
   "version": "3.10.13"
  }
 },
 "nbformat": 4,
 "nbformat_minor": 2
}
